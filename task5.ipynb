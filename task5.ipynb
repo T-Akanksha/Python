{
 "cells": [
  {
   "cell_type": "code",
   "execution_count": 2,
   "id": "31bd4d64",
   "metadata": {},
   "outputs": [],
   "source": [
    "#1. Define a function which will return Max of three numbers\n",
    "\n",
    "def greater(a,b,c):\n",
    "    if a>b and a>c:\n",
    "        print(a,\"is greater than all numbers\")\n",
    "    elif b>a and b>c:\n",
    "        print(b,\"is greater than all numbers\")\n",
    "    else:\n",
    "        print(c,\"is greater than all numbers\") "
   ]
  },
  {
   "cell_type": "code",
   "execution_count": 3,
   "id": "5872166f",
   "metadata": {},
   "outputs": [
    {
     "name": "stdout",
     "output_type": "stream",
     "text": [
      "8 is greater than all numbers\n"
     ]
    }
   ],
   "source": [
    "greater(6,8,7)"
   ]
  },
  {
   "cell_type": "code",
   "execution_count": 16,
   "id": "d77a18be",
   "metadata": {},
   "outputs": [],
   "source": [
    "#2. Define a Python Function to reverse a string.\n",
    "\n",
    "#method 1\n",
    "\n",
    "def f1(a):\n",
    "    r=a[::-1]\n",
    "    print(r)"
   ]
  },
  {
   "cell_type": "code",
   "execution_count": 18,
   "id": "853f050e",
   "metadata": {},
   "outputs": [
    {
     "name": "stdout",
     "output_type": "stream",
     "text": [
      "olleh\n"
     ]
    }
   ],
   "source": [
    "f1(\"hello\")"
   ]
  },
  {
   "cell_type": "code",
   "execution_count": 31,
   "id": "2db8f386",
   "metadata": {},
   "outputs": [],
   "source": [
    "#method 2\n",
    "\n",
    "def reverse(a):\n",
    "    l=len(a)\n",
    "    b=\"\"\n",
    "    for x in range(l):\n",
    "        s=a[(l-1)-x]\n",
    "        b=b+s\n",
    "    print(b)"
   ]
  },
  {
   "cell_type": "code",
   "execution_count": 32,
   "id": "1990b7d5",
   "metadata": {},
   "outputs": [
    {
     "name": "stdout",
     "output_type": "stream",
     "text": [
      "scitamonni\n"
     ]
    }
   ],
   "source": [
    "reverse(\"innomatics\")"
   ]
  },
  {
   "cell_type": "code",
   "execution_count": 33,
   "id": "4cd03ca2",
   "metadata": {},
   "outputs": [],
   "source": [
    "#3. Write a Python program to define a function that accepts 2 values \n",
    "#and return its sum, subtraction and multiplication.\n",
    "\n",
    "def f1(x,y):\n",
    "    print(\"{}+{}={}\".format(x,y,x+y))\n",
    "    print(\"{}-{}={}\".format(x,y,x-y))\n",
    "    print(\"{}*{}={}\".format(x,y,x*y))"
   ]
  },
  {
   "cell_type": "code",
   "execution_count": 34,
   "id": "3fd161bb",
   "metadata": {},
   "outputs": [
    {
     "name": "stdout",
     "output_type": "stream",
     "text": [
      "7+8=15\n",
      "7-8=-1\n",
      "7*8=56\n"
     ]
    }
   ],
   "source": [
    "f1(7,8)"
   ]
  },
  {
   "cell_type": "code",
   "execution_count": 39,
   "id": "502c8f32",
   "metadata": {},
   "outputs": [],
   "source": [
    "#4. Define a function that accepts roll number and returns whether the \n",
    "#student is present or absent.\n",
    "\n",
    "students={1:\"Akanksha\",2:\"Anusha\",3:\"Pranavi\",4:\"Sneha\",5:\"Sravani\"}\n",
    "def f1(*rollno):\n",
    "    keys=students.keys()\n",
    "    for a in keys:\n",
    "        if a in rollno:\n",
    "            print(\"{} is present\".format(students[a]))\n",
    "        else:\n",
    "            print(\"{} is absent\".format(students[a]))"
   ]
  },
  {
   "cell_type": "code",
   "execution_count": 41,
   "id": "dc958806",
   "metadata": {},
   "outputs": [
    {
     "name": "stdout",
     "output_type": "stream",
     "text": [
      "Akanksha is present\n",
      "Anusha is absent\n",
      "Pranavi is present\n",
      "Sneha is absent\n",
      "Sravani is absent\n"
     ]
    }
   ],
   "source": [
    "f1(1,3)"
   ]
  },
  {
   "cell_type": "code",
   "execution_count": 42,
   "id": "f9d58573",
   "metadata": {},
   "outputs": [],
   "source": [
    "#5. Define a function in python that accepts n values and returns \n",
    "#the maximum of n numbers\n",
    "\n",
    "def f1(*s):\n",
    "    a=max(s)\n",
    "    print(a)"
   ]
  },
  {
   "cell_type": "code",
   "execution_count": 43,
   "id": "f1f4bba1",
   "metadata": {},
   "outputs": [
    {
     "name": "stdout",
     "output_type": "stream",
     "text": [
      "9\n"
     ]
    }
   ],
   "source": [
    "f1(1,2,3,4,5,6,7,8,9)"
   ]
  },
  {
   "cell_type": "code",
   "execution_count": 52,
   "id": "84bf13f4",
   "metadata": {},
   "outputs": [],
   "source": [
    "#2 method\n",
    "def f1(*s):\n",
    "    l=[]\n",
    "    for i in s:\n",
    "        l.append(i)\n",
    "        l.sort()\n",
    "        c=l[-1]\n",
    "    print(c)"
   ]
  },
  {
   "cell_type": "code",
   "execution_count": 53,
   "id": "0f3ee38f",
   "metadata": {},
   "outputs": [
    {
     "name": "stdout",
     "output_type": "stream",
     "text": [
      "69\n"
     ]
    }
   ],
   "source": [
    "f1(54,56,69,5)"
   ]
  },
  {
   "cell_type": "code",
   "execution_count": 70,
   "id": "dc27687e",
   "metadata": {},
   "outputs": [],
   "source": [
    "#6. Define a function which counts vowels and consonant in a word.\n",
    "\n",
    "def f1(a):\n",
    "    vowels=(\"a\",\"e\",\"i\",\"o\",\"u\")\n",
    "    v=0\n",
    "    c=0\n",
    "    for x in a:\n",
    "        if x in vowels:\n",
    "            v=v+1\n",
    "        else:\n",
    "            c=c+1\n",
    "    print(\"The vowels in the given word:{}\".format(v))\n",
    "    print(\"The consonants in the given word:{}\".format(c))\n",
    "            "
   ]
  },
  {
   "cell_type": "code",
   "execution_count": 71,
   "id": "52003e7f",
   "metadata": {},
   "outputs": [
    {
     "name": "stdout",
     "output_type": "stream",
     "text": [
      "The vowels in the given word:3\n",
      "The consonants in the given word:5\n"
     ]
    }
   ],
   "source": [
    "f1(\"akanksha\")"
   ]
  },
  {
   "cell_type": "code",
   "execution_count": 84,
   "id": "19acdf75",
   "metadata": {},
   "outputs": [],
   "source": [
    "#7. Define a function that returns Factorial of a number\n",
    "\n",
    "def f1(a):\n",
    "    b=1\n",
    "    for a in range(1,a+1):\n",
    "        b=b*a\n",
    "    print(b)"
   ]
  },
  {
   "cell_type": "code",
   "execution_count": 85,
   "id": "3125c248",
   "metadata": {},
   "outputs": [
    {
     "name": "stdout",
     "output_type": "stream",
     "text": [
      "6\n"
     ]
    }
   ],
   "source": [
    "f1(3)"
   ]
  },
  {
   "cell_type": "code",
   "execution_count": 86,
   "id": "f391aa20",
   "metadata": {},
   "outputs": [],
   "source": [
    "#8. Define a function that accepts radius and returns the area of a circle.\n",
    "\n",
    "def f1(r):\n",
    "    a=0\n",
    "    p=3.14\n",
    "    if r>0:\n",
    "        a=p*r**2\n",
    "        print(a)"
   ]
  },
  {
   "cell_type": "code",
   "execution_count": 87,
   "id": "6b03b0ea",
   "metadata": {},
   "outputs": [
    {
     "name": "stdout",
     "output_type": "stream",
     "text": [
      "12.56\n"
     ]
    }
   ],
   "source": [
    "f1(2)"
   ]
  },
  {
   "cell_type": "code",
   "execution_count": 90,
   "id": "9349c462",
   "metadata": {},
   "outputs": [],
   "source": [
    "#9. Define a function that takes a number as a parameter and check \n",
    "#the number is prime or not\n",
    "\n",
    "def f1(a):\n",
    "    b=0\n",
    "    for i in range(1,a):\n",
    "        b=b+1\n",
    "    if b>=2:\n",
    "        print(\"it is not a prime number\")\n",
    "    else:\n",
    "        print(\"it is a prime number\")"
   ]
  },
  {
   "cell_type": "code",
   "execution_count": 92,
   "id": "f18201b2",
   "metadata": {},
   "outputs": [
    {
     "name": "stdout",
     "output_type": "stream",
     "text": [
      "it is not a prime number\n"
     ]
    }
   ],
   "source": [
    "f1(7)"
   ]
  },
  {
   "cell_type": "code",
   "execution_count": 11,
   "id": "7153d0ff",
   "metadata": {},
   "outputs": [],
   "source": [
    "#10. Mary wants to run a 25-mile marathon. When she attempts to \n",
    "#sign up for the marathon, she notices the sign-up sheet doesn't \n",
    "#directly state the marathon's length. Instead, the marathon's length \n",
    "#is listed in small, different portions. Help Mary find out how long \n",
    "#the marathon actually is. So create a function that\n",
    "def marathon(*km):\n",
    "    s=0\n",
    "    for i in km:\n",
    "        if i>0:\n",
    "            s=i+s\n",
    "        else:\n",
    "            i=i*(-1)\n",
    "            s=s+i\n",
    "    if s==25:\n",
    "        print(\"True\")\n",
    "    else:\n",
    "        print(\"False\")"
   ]
  },
  {
   "cell_type": "code",
   "execution_count": 14,
   "id": "b82dc49b",
   "metadata": {},
   "outputs": [
    {
     "name": "stdout",
     "output_type": "stream",
     "text": [
      "False\n"
     ]
    }
   ],
   "source": [
    "marathon(4,15,-4)\n"
   ]
  },
  {
   "cell_type": "code",
   "execution_count": 15,
   "id": "4f7bfece",
   "metadata": {},
   "outputs": [
    {
     "name": "stdout",
     "output_type": "stream",
     "text": [
      "True\n"
     ]
    }
   ],
   "source": [
    "marathon(4,15,-6)"
   ]
  },
  {
   "cell_type": "code",
   "execution_count": 101,
   "id": "716d17b9",
   "metadata": {},
   "outputs": [],
   "source": [
    "#11. Create a function that takes a number and returns True if the \n",
    "#number is automorphic, False if it isn't.\n",
    "#** number n is automorphic if n^2 ends in n.\n",
    "\n",
    "def f1(a):\n",
    "    b=a**2\n",
    "    c=str(b)\n",
    "    if int(c[-1])==a:\n",
    "        print(\"True\",a,\"is automorphic\")\n",
    "    else:\n",
    "        print(\"False\",a,\"is not a automorphic\")\n",
    "    "
   ]
  },
  {
   "cell_type": "code",
   "execution_count": 102,
   "id": "4a6a1811",
   "metadata": {},
   "outputs": [
    {
     "name": "stdout",
     "output_type": "stream",
     "text": [
      "True 5 is automorphic\n"
     ]
    }
   ],
   "source": [
    "f1(5)"
   ]
  },
  {
   "cell_type": "code",
   "execution_count": 5,
   "id": "326cc40a",
   "metadata": {},
   "outputs": [],
   "source": [
    "#12) Create a function, that will take given a, b, c, and do the following: \n",
    " #Add a to itself b times and Check if the result is divisible by c.\n",
    "# and return true if it is divisible by c or false\n",
    "\n",
    "def f1(a,b,c):\n",
    "    x=[]\n",
    "    for num in range(b):\n",
    "        x.append(a)\n",
    "    if sum(x)%c==0:\n",
    "        return True\n",
    "    else:\n",
    "        return False"
   ]
  },
  {
   "cell_type": "code",
   "execution_count": 8,
   "id": "85dc4d96",
   "metadata": {},
   "outputs": [
    {
     "data": {
      "text/plain": [
       "False"
      ]
     },
     "execution_count": 8,
     "metadata": {},
     "output_type": "execute_result"
    }
   ],
   "source": [
    "f1(3,5,2)"
   ]
  },
  {
   "cell_type": "code",
   "execution_count": 28,
   "id": "51985273",
   "metadata": {},
   "outputs": [],
   "source": [
    "#13) Create a function that changes specific words into emoticons. \n",
    "#Given a sentence as a string, replace the words smile, grin, sad and mad \n",
    "#with their corresponding emoticons.\n",
    "#smile :D, grin :), sad :( ,mad :P\n",
    "\n",
    "def functionname(a):\n",
    "    s=a.split()\n",
    "    dic={\"smile\":\":D\",\"grin\":\":)\",\"sad\":\":(\",\"mad\":\":P\"}\n",
    "    for items in s:\n",
    "        if items in dic.keys():\n",
    "            change=a.replace(items,dic[items])\n",
    "            print(change)"
   ]
  },
  {
   "cell_type": "code",
   "execution_count": 29,
   "id": "30fa8758",
   "metadata": {},
   "outputs": [
    {
     "name": "stdout",
     "output_type": "stream",
     "text": [
      "I am :(\n"
     ]
    }
   ],
   "source": [
    "functionname(\"I am sad\")"
   ]
  },
  {
   "cell_type": "code",
   "execution_count": 2,
   "id": "4a849e20",
   "metadata": {},
   "outputs": [
    {
     "name": "stdout",
     "output_type": "stream",
     "text": [
      "[16, 25, 36]\n",
      "[64, 125, 216]\n"
     ]
    }
   ],
   "source": [
    "#14) Write a Python program to square and cube every number in a given \n",
    "#list of integers using Lambda\n",
    "\n",
    "x=list(map(lambda x:x**2,[4,5,6]))\n",
    "y=list(map(lambda y:y**3,[4,5,6]))\n",
    "print(x)\n",
    "print(y)"
   ]
  },
  {
   "cell_type": "code",
   "execution_count": 5,
   "id": "4be96d5f",
   "metadata": {},
   "outputs": [],
   "source": [
    "#15)Write a Python program to check whether a given string is number \n",
    "#or not using Lambda\n",
    "\n",
    "def string(a):\n",
    "    if a.isdigit():\n",
    "        print(\"digit\")\n",
    "    elif a.isalpha():\n",
    "        print(\"string\")\n",
    "    else:\n",
    "        print(\"press anyone either digit or string\")"
   ]
  },
  {
   "cell_type": "code",
   "execution_count": 8,
   "id": "8d7aec26",
   "metadata": {},
   "outputs": [
    {
     "name": "stdout",
     "output_type": "stream",
     "text": [
      "string\n"
     ]
    }
   ],
   "source": [
    "string(\"nfr\")"
   ]
  },
  {
   "cell_type": "code",
   "execution_count": 9,
   "id": "0199909a",
   "metadata": {},
   "outputs": [
    {
     "name": "stdout",
     "output_type": "stream",
     "text": [
      "digit\n"
     ]
    }
   ],
   "source": [
    "string(\"4555\")"
   ]
  },
  {
   "cell_type": "code",
   "execution_count": 10,
   "id": "e7b9d7b2",
   "metadata": {},
   "outputs": [
    {
     "name": "stdout",
     "output_type": "stream",
     "text": [
      "press anyone either digit or string\n"
     ]
    }
   ],
   "source": [
    "string(\"78fhu\")"
   ]
  },
  {
   "cell_type": "code",
   "execution_count": null,
   "id": "b0416042",
   "metadata": {},
   "outputs": [],
   "source": []
  }
 ],
 "metadata": {
  "kernelspec": {
   "display_name": "Python 3 (ipykernel)",
   "language": "python",
   "name": "python3"
  },
  "language_info": {
   "codemirror_mode": {
    "name": "ipython",
    "version": 3
   },
   "file_extension": ".py",
   "mimetype": "text/x-python",
   "name": "python",
   "nbconvert_exporter": "python",
   "pygments_lexer": "ipython3",
   "version": "3.9.13"
  }
 },
 "nbformat": 4,
 "nbformat_minor": 5
}
