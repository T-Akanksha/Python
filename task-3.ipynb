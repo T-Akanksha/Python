{
 "cells": [
  {
   "cell_type": "code",
   "execution_count": 7,
   "id": "a8d12793",
   "metadata": {},
   "outputs": [
    {
     "name": "stdout",
     "output_type": "stream",
     "text": [
      "0\n",
      "1\n",
      "2\n",
      "4\n",
      "5\n"
     ]
    }
   ],
   "source": [
    "#1) Write a Python program that prints all the numbers from 0 to 6 except 3 and 6\n",
    "\n",
    "#for \n",
    "\n",
    "for a in range(0,6):\n",
    "    if a%3==0 and a>0:\n",
    "        continue\n",
    "    print(a)\n",
    "        "
   ]
  },
  {
   "cell_type": "code",
   "execution_count": 23,
   "id": "cde9f5ab",
   "metadata": {},
   "outputs": [
    {
     "name": "stdout",
     "output_type": "stream",
     "text": [
      "0\n",
      "1\n",
      "2\n",
      "4\n",
      "5\n"
     ]
    }
   ],
   "source": [
    "#while\n",
    "a=-1\n",
    "while a<6:\n",
    "    a=a+1\n",
    "    if a==3:\n",
    "        continue\n",
    "    elif a==6:\n",
    "        continue\n",
    "    print(a)"
   ]
  },
  {
   "cell_type": "code",
   "execution_count": 16,
   "id": "cb5565a7",
   "metadata": {},
   "outputs": [
    {
     "name": "stdout",
     "output_type": "stream",
     "text": [
      "Enter the range : 5\n",
      "15\n"
     ]
    }
   ],
   "source": [
    "#2) Write a program to accept a number from a user and calculate the sum of all numbers from 1 to a given number\n",
    "\n",
    "#for\n",
    "\n",
    "x=int(input(\"Enter the range : \"))\n",
    "count=0\n",
    "for y in range(1,x+1):\n",
    "    count=count+y\n",
    "print(count)"
   ]
  },
  {
   "cell_type": "code",
   "execution_count": null,
   "id": "93e92bf0",
   "metadata": {},
   "outputs": [],
   "source": [
    "#while\n",
    "\n",
    "a=int(input(\"Enter the range : \"))\n",
    "count=0\n",
    "while a>0:\n",
    "    count+=a\n",
    "print(count)"
   ]
  },
  {
   "cell_type": "code",
   "execution_count": 8,
   "id": "e516196a",
   "metadata": {},
   "outputs": [
    {
     "name": "stdout",
     "output_type": "stream",
     "text": [
      "Enter the table : 5\n",
      "Enter upto which number : 10\n",
      "5 * 1 = 5\n",
      "5 * 2 = 10\n",
      "5 * 3 = 15\n",
      "5 * 4 = 20\n",
      "5 * 5 = 25\n",
      "5 * 6 = 30\n",
      "5 * 7 = 35\n",
      "5 * 8 = 40\n",
      "5 * 9 = 45\n",
      "5 * 10 = 50\n"
     ]
    }
   ],
   "source": [
    "#3) Write a program to print multiplication table of a given number(input)\n",
    "\n",
    "x=int(input(\"Enter the table : \"))\n",
    "y=int(input(\"Enter upto which number : \"))\n",
    "for z in range(1,y+1):\n",
    "    c=x*z\n",
    "    print(x,\"*\",z,\"=\",c)"
   ]
  },
  {
   "cell_type": "code",
   "execution_count": 3,
   "id": "7a2f5e37",
   "metadata": {},
   "outputs": [
    {
     "name": "stdout",
     "output_type": "stream",
     "text": [
      "enter: 5454\n",
      "4\n"
     ]
    }
   ],
   "source": [
    "#4) Write a program to count the total number of digits in a number using a while loop.\n",
    "\n",
    "#while\n",
    "x=input(\"enter: \")\n",
    "count=0\n",
    "l=len(x)\n",
    "while count<l:\n",
    "    count=count+1\n",
    "print(count)"
   ]
  },
  {
   "cell_type": "code",
   "execution_count": 9,
   "id": "37ae69c8",
   "metadata": {},
   "outputs": [
    {
     "name": "stdout",
     "output_type": "stream",
     "text": [
      "555\n",
      "3\n"
     ]
    }
   ],
   "source": [
    "#for\n",
    "\n",
    "x=input()\n",
    "count=0\n",
    "for y in x:\n",
    "    count=count+1\n",
    "print(count)"
   ]
  },
  {
   "cell_type": "code",
   "execution_count": 5,
   "id": "1888b3ae",
   "metadata": {},
   "outputs": [
    {
     "name": "stdout",
     "output_type": "stream",
     "text": [
      "enter the number : 9\n",
      "guess a number:  4\n",
      "guess a number:  4\n",
      "guess a number:  9\n",
      "well guessed\n"
     ]
    }
   ],
   "source": [
    "#5) Write a Python program to guess a number between 1 to\n",
    "\n",
    "#while \n",
    "x=int(input(\"enter the number : \"))\n",
    "y=int(input(\"guess a number:  \"))\n",
    "while x!=y:\n",
    "    y=int(input(\"guess a number:  \"))\n",
    "if x==y:\n",
    "    print(\"well guessed\")\n",
    "    "
   ]
  },
  {
   "cell_type": "code",
   "execution_count": 2,
   "id": "e6e22f38",
   "metadata": {},
   "outputs": [
    {
     "name": "stdout",
     "output_type": "stream",
     "text": [
      "1\n",
      "2\n",
      "Fizz\n",
      "4\n",
      "Buzz\n",
      "Fizz\n",
      "7\n",
      "8\n",
      "Fizz\n",
      "Buzz\n",
      "11\n",
      "Fizz\n",
      "13\n",
      "14\n",
      "FizzBuzz\n",
      "16\n",
      "17\n",
      "Fizz\n",
      "19\n",
      "Buzz\n",
      "Fizz\n",
      "22\n",
      "23\n",
      "Fizz\n",
      "Buzz\n",
      "26\n",
      "Fizz\n",
      "28\n",
      "29\n",
      "FizzBuzz\n",
      "31\n",
      "32\n",
      "Fizz\n",
      "34\n",
      "Buzz\n",
      "Fizz\n",
      "37\n",
      "38\n",
      "Fizz\n",
      "Buzz\n",
      "41\n",
      "Fizz\n",
      "43\n",
      "44\n",
      "FizzBuzz\n",
      "46\n",
      "47\n",
      "Fizz\n",
      "49\n",
      "Buzz\n",
      "Fizz\n",
      "52\n",
      "53\n",
      "Fizz\n",
      "Buzz\n",
      "56\n",
      "Fizz\n",
      "58\n",
      "59\n",
      "FizzBuzz\n"
     ]
    }
   ],
   "source": [
    "#6) Write a Python program which iterates the integers from 1 to 60. For multiples of three print \"Fizz\" instead of the number\n",
    "#and for the multiples of five print \"Buzz\". For numbers which are multiples of both three and five print \"FizzBuzz\".\n",
    "\n",
    "#for \n",
    "for a in range(1,61):\n",
    "    if a%3==0 and a%5==0:\n",
    "        print(\"FizzBuzz\")\n",
    "    elif a%3==0:\n",
    "        print(\"Fizz\")\n",
    "    elif a%5==0:\n",
    "        print(\"Buzz\")\n",
    "    else:\n",
    "        print(a)\n"
   ]
  },
  {
   "cell_type": "code",
   "execution_count": 3,
   "id": "0bdfac2e",
   "metadata": {},
   "outputs": [
    {
     "name": "stdout",
     "output_type": "stream",
     "text": [
      "1\n",
      "2\n",
      "Fizz\n",
      "4\n",
      "Buzz\n",
      "Fizz\n",
      "7\n",
      "8\n",
      "Fizz\n",
      "Buzz\n",
      "11\n",
      "Fizz\n",
      "13\n",
      "14\n",
      "FizzBuzz\n",
      "16\n",
      "17\n",
      "Fizz\n",
      "19\n",
      "Buzz\n",
      "Fizz\n",
      "22\n",
      "23\n",
      "Fizz\n",
      "Buzz\n",
      "26\n",
      "Fizz\n",
      "28\n",
      "29\n",
      "FizzBuzz\n",
      "31\n",
      "32\n",
      "Fizz\n",
      "34\n",
      "Buzz\n",
      "Fizz\n",
      "37\n",
      "38\n",
      "Fizz\n",
      "Buzz\n",
      "41\n",
      "Fizz\n",
      "43\n",
      "44\n",
      "FizzBuzz\n",
      "46\n",
      "47\n",
      "Fizz\n",
      "49\n",
      "Buzz\n",
      "Fizz\n",
      "52\n",
      "53\n",
      "Fizz\n",
      "Buzz\n",
      "56\n",
      "Fizz\n",
      "58\n",
      "59\n",
      "FizzBuzz\n"
     ]
    }
   ],
   "source": [
    "#while\n",
    "\n",
    "a=1\n",
    "while a<61:\n",
    "    if a%3==0 and a%5==0:\n",
    "        print(\"FizzBuzz\")\n",
    "    elif a%3==0:\n",
    "        print(\"Fizz\")\n",
    "    elif a%5==0:\n",
    "        print(\"Buzz\")\n",
    "    else:\n",
    "        print(a) \n",
    "    a=a+1"
   ]
  },
  {
   "cell_type": "code",
   "execution_count": 8,
   "id": "64514df4",
   "metadata": {},
   "outputs": [
    {
     "name": "stdout",
     "output_type": "stream",
     "text": [
      "Enter a string$11Akanksha\n",
      "pass\n",
      "letters 8\n",
      "digits 2\n"
     ]
    }
   ],
   "source": [
    "#7) Write a Python program that accepts a string and calculate the number of digits and letters\n",
    "\n",
    "#for\n",
    "x=input(\"Enter a string\")\n",
    "a=d=0\n",
    "for b in x:\n",
    "    if b.isdigit():\n",
    "        a=a+1\n",
    "    elif b.isalpha():\n",
    "        d=d+1\n",
    "    else:\n",
    "        print(\"pass\")\n",
    "print(\"letters\",d)\n",
    "print(\"digits\",a)\n",
    "    "
   ]
  },
  {
   "cell_type": "code",
   "execution_count": 2,
   "id": "0abdef43",
   "metadata": {},
   "outputs": [
    {
     "name": "stdout",
     "output_type": "stream",
     "text": [
      "Type the password to check validity: Akanksha$197\n",
      "Password is valid\n"
     ]
    }
   ],
   "source": [
    "#8) Write a Python program to check the validity of password input by users.\n",
    "\n",
    "pwd=input(\"Type the password to check validity: \")\n",
    "lower=0\n",
    "upper=0\n",
    "number=0\n",
    "character=0\n",
    "y=0\n",
    "if len(pwd)<6 or len(pwd)>16 or pwd.isidentifier():\n",
    "    print(\"Password is invalid\")\n",
    "elif len(pwd)>=6 or len(pwd)<=16:\n",
    "    while y<len(pwd):\n",
    "        if pwd[y].isdigit():\n",
    "            number=number+1\n",
    "        elif pwd[y].isupper():\n",
    "            upper=upper+1\n",
    "        elif pwd[y].islower():\n",
    "            lower=lower+1\n",
    "        y=y+1\n",
    "    if number>=1 and upper>=1 and lower>=1:\n",
    "        print(\"Password is valid\")\n",
    "    else:\n",
    "        print(\"Password is invalid\")     "
   ]
  },
  {
   "cell_type": "code",
   "execution_count": 15,
   "id": "08b1cba6",
   "metadata": {},
   "outputs": [
    {
     "name": "stdout",
     "output_type": "stream",
     "text": [
      "Enter the word : seshu\n",
      "uhses\n"
     ]
    }
   ],
   "source": [
    "#9) Write a program in Python to reverse a word by using while loop\n",
    "\n",
    "#for\n",
    "x=input(\"Enter the word : \")\n",
    "a=\"\"\n",
    "for c in x:\n",
    "    a=c+a\n",
    "print(a)"
   ]
  },
  {
   "cell_type": "code",
   "execution_count": 10,
   "id": "21d3f370",
   "metadata": {},
   "outputs": [
    {
     "name": "stdout",
     "output_type": "stream",
     "text": [
      "Enter 10 no.s : 1234567891\n",
      "4.6\n"
     ]
    }
   ],
   "source": [
    "#10) Write a program which takes 10 integers as input using loop and print their average value on the\n",
    "#screen\n",
    "\n",
    "#for\n",
    "x=input(\"Enter 10 no.s : \")\n",
    "l=len(x)\n",
    "count=0\n",
    "for y in range(l):\n",
    "    count=count+int(x[y])\n",
    "print(count/l)"
   ]
  },
  {
   "cell_type": "code",
   "execution_count": 1,
   "id": "c327bd3a",
   "metadata": {},
   "outputs": [
    {
     "name": "stdout",
     "output_type": "stream",
     "text": [
      "Type the integer: 1\n",
      "Type q to quit: e\n",
      "Type the integer: 2\n",
      "Type q to quit: t\n",
      "Type the integer: 3\n",
      "Type q to quit: t\n",
      "Type the integer: 5\n",
      "Type q to quit: F\n",
      "Type the integer: 123\n",
      "Type q to quit: Q\n",
      "Type the integer: 56789\n",
      "Type q to quit: q\n",
      "Average of all the numbers is:  9487.166666666666\n",
      "Product of all the numbers is:  209551410\n"
     ]
    }
   ],
   "source": [
    "#11) Write a program which takes integer inputs from user until he/she presses “q” (Ask to press q to\n",
    "#quit after every integer input). Print average and product of all numbers.\n",
    "y=\"l\"\n",
    "product=1\n",
    "total=0\n",
    "count=0\n",
    "while y!=\"q\":      \n",
    "    m=int(input(\"Type the integer: \"))\n",
    "    product=product*m\n",
    "    total=total+m\n",
    "    count=count+1\n",
    "    y=input(\"Type q to quit: \")\n",
    "print(\"Average of all the numbers is: \",total/count)\n",
    "print(\"Product of all the numbers is: \",product)\n"
   ]
  },
  {
   "cell_type": "code",
   "execution_count": 2,
   "id": "7aac765a",
   "metadata": {},
   "outputs": [
    {
     "name": "stdout",
     "output_type": "stream",
     "text": [
      "enter a stringABCd.@123\n",
      "ABCd\n"
     ]
    }
   ],
   "source": [
    "#12) Write a Python program which will remove all digits or any other characters from the string\n",
    "#except alphabets\n",
    "\n",
    "#for \n",
    "x=input(\"enter a string\")\n",
    "s=\"\"\n",
    "for a in x:\n",
    "    if a.isalpha():\n",
    "        s=s+a\n",
    "print(s)"
   ]
  },
  {
   "cell_type": "code",
   "execution_count": 21,
   "id": "089e004f",
   "metadata": {},
   "outputs": [
    {
     "name": "stdout",
     "output_type": "stream",
     "text": [
      "20\n"
     ]
    }
   ],
   "source": [
    "#13) Write a python program to find the sum of all even numbers from 0 to 10\n",
    "\n",
    "#for loop\n",
    "\n",
    "count=0\n",
    "for a in range(0,10):\n",
    "    if a%2==0:\n",
    "        count=count+a\n",
    "print(count)\n",
    "    \n"
   ]
  },
  {
   "cell_type": "code",
   "execution_count": 26,
   "id": "1f75b998",
   "metadata": {},
   "outputs": [
    {
     "name": "stdout",
     "output_type": "stream",
     "text": [
      "20\n"
     ]
    }
   ],
   "source": [
    "#while loop\n",
    "\n",
    "a=0\n",
    "b=0\n",
    "while a<10:\n",
    "    if a%2==0:\n",
    "        b=b+a\n",
    "    a=a+1\n",
    "print(b)\n",
    "    "
   ]
  },
  {
   "cell_type": "code",
   "execution_count": 34,
   "id": "295838f2",
   "metadata": {},
   "outputs": [
    {
     "name": "stdout",
     "output_type": "stream",
     "text": [
      "enter an digit : 7\n",
      "6\n",
      "5\n",
      "4\n",
      "3\n",
      "2\n",
      "1\n",
      "0\n"
     ]
    }
   ],
   "source": [
    "#14) Write a python program which will accept a digit and print All the numbers before it till 0\n",
    "\n",
    "#while loop\n",
    "x=int(input(\"enter an digit : \"))\n",
    "c=0\n",
    "while x>c:\n",
    "    x=x-1\n",
    "    print(x)"
   ]
  },
  {
   "cell_type": "code",
   "execution_count": 35,
   "id": "a013ba13",
   "metadata": {},
   "outputs": [
    {
     "name": "stdout",
     "output_type": "stream",
     "text": [
      "enter a no : 8\n",
      "enter a no : 4\n",
      "enter a operator*\n",
      "if stop enter c : \n",
      "8*4=32\n",
      "enter a no : 9\n",
      "enter a no : 5\n",
      "enter a operator8\n",
      "if stop enter c : \n",
      "enter a no : 5\n",
      "enter a no : 4\n",
      "enter a operator+\n",
      "if stop enter c : \n",
      "5+4=9\n",
      "enter a no : 5\n",
      "enter a no : 8\n",
      "enter a operatorc\n",
      "if stop enter c : c\n"
     ]
    }
   ],
   "source": [
    "#15) Create a dynamic calculator which will run continually till you press “c”\n",
    "a=int(input(\"enter a no : \"))\n",
    "b=int(input(\"enter a no : \"))\n",
    "c=input(\"enter a operator\")\n",
    "s=input(\"if stop enter c : \")\n",
    "while s!=\"c\":   \n",
    "    if c==\"+\":\n",
    "        print(\"{}+{}={}\".format(a,b,a+b))\n",
    "    elif c==\"-\":\n",
    "        print(\"{}-{}={}\".format(a,b,a-b))\n",
    "    elif c==\"*\":\n",
    "        print(\"{}*{}={}\".format(a,b,a*b))\n",
    "    elif c==\"**\":\n",
    "        print(\"{}*{}={}\".format(a,b,a**b))\n",
    "    elif c==\"%\":\n",
    "        print(\"{}%{}={}\".format(a,b,a%b))\n",
    "    elif c==\"//\":\n",
    "        print(\"{}*{}={}\".format(a,b,a//b))\n",
    "    a=int(input(\"enter a no : \"))\n",
    "    b=int(input(\"enter a no : \"))\n",
    "    c=input(\"enter a operator\")\n",
    "    s=input(\"if stop enter c : \")\n",
    "        "
   ]
  },
  {
   "cell_type": "code",
   "execution_count": null,
   "id": "28a538b3",
   "metadata": {},
   "outputs": [],
   "source": []
  }
 ],
 "metadata": {
  "kernelspec": {
   "display_name": "Python 3 (ipykernel)",
   "language": "python",
   "name": "python3"
  },
  "language_info": {
   "codemirror_mode": {
    "name": "ipython",
    "version": 3
   },
   "file_extension": ".py",
   "mimetype": "text/x-python",
   "name": "python",
   "nbconvert_exporter": "python",
   "pygments_lexer": "ipython3",
   "version": "3.9.13"
  }
 },
 "nbformat": 4,
 "nbformat_minor": 5
}
