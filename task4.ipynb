{
 "cells": [
  {
   "cell_type": "code",
   "execution_count": 10,
   "id": "ea830bc7",
   "metadata": {},
   "outputs": [
    {
     "data": {
      "text/plain": [
       "[1, 2, 3, 4, 7, 8, 9]"
      ]
     },
     "execution_count": 10,
     "metadata": {},
     "output_type": "execute_result"
    }
   ],
   "source": [
    "#1. Given a list of numbers, write a python program that returns a new list which Has all \n",
    "#duplicate elements removed. And is sorted in an increasing order.\n",
    "\n",
    "l1=[2,1,3,4,2,3,3,2,7,9,8,7]\n",
    "s=set(l1)\n",
    "l2=list(s)\n",
    "l2.sort()\n",
    "l2\n"
   ]
  },
  {
   "cell_type": "code",
   "execution_count": 27,
   "id": "960a1e69",
   "metadata": {},
   "outputs": [
    {
     "name": "stdout",
     "output_type": "stream",
     "text": [
      "Female F\n",
      "Male M\n",
      "Other O\n"
     ]
    }
   ],
   "source": [
    "#2. Write a Python program where you will iterate over both keys and values in \n",
    "#dictionaries\n",
    "\n",
    "dic={\"Female\":\"F\",\"Male\":\"M\",\"Other\":\"O\"}\n",
    "for keys,values in dic.items():\n",
    "    print(keys,values)\n"
   ]
  },
  {
   "cell_type": "code",
   "execution_count": 38,
   "id": "337b049b",
   "metadata": {},
   "outputs": [
    {
     "name": "stdout",
     "output_type": "stream",
     "text": [
      "['Gephi', 'Manoj', 'Tarun']\n"
     ]
    }
   ],
   "source": [
    "#3. Write a Python program that takes a dictionary of student names and returns a list of \n",
    "#student names in alphabetical order\n",
    "\n",
    "dic1={\"Student 1\": \"Tarun\", \"Student 2\": \"Manoj\" , \"Student 3\": \"Gephi\"}\n",
    "l1=[]\n",
    "for values in dic1.values():\n",
    "    l1.append(values)\n",
    "    l1.sort()\n",
    "print(l1)"
   ]
  },
  {
   "cell_type": "code",
   "execution_count": 39,
   "id": "0a5bd2df",
   "metadata": {},
   "outputs": [
    {
     "name": "stdout",
     "output_type": "stream",
     "text": [
      "enter the number1010001011\n",
      "['True', 'False', 'True', 'False', 'False', 'False', 'True', 'False', 'True', 'True']\n"
     ]
    }
   ],
   "source": [
    "#4. Write a Python which returns a new list of Booleans, from a given number. Iterating \n",
    "#through the number one digit at a time, append True if the digit is 1 and False if it is 0.\n",
    "\n",
    "binary_numbers=input(\"enter the number\")\n",
    "l=[]\n",
    "for a in binary_numbers:\n",
    "    if a==\"1\":\n",
    "        l.append(\"True\")\n",
    "    elif a==\"0\":\n",
    "        l.append(\"False\")\n",
    "print(l)"
   ]
  },
  {
   "cell_type": "code",
   "execution_count": 1,
   "id": "1a727002",
   "metadata": {},
   "outputs": [
    {
     "name": "stdout",
     "output_type": "stream",
     "text": [
      "Enter the string : my name is ame\n",
      "{'m': 3, 'y': 1, 'n': 1, 'a': 2, 'e': 2, 'i': 1, 's': 1}\n"
     ]
    }
   ],
   "source": [
    "#5.Write a Python program where you will return a dictionary where the keys will be the\n",
    "#character and the values will be the occurrence of the character in the string, and it \n",
    "#should for any string inputs (dynamic)\n",
    "\n",
    "x=input(\"Enter the string : \")\n",
    "a=list(x)\n",
    "dict1={}\n",
    "for i in a:\n",
    "    dict1.update({i:x.count(i)})\n",
    "del dict1[\" \"]\n",
    "print(dict1)\n"
   ]
  },
  {
   "cell_type": "code",
   "execution_count": 11,
   "id": "a7001f58",
   "metadata": {},
   "outputs": [
    {
     "name": "stdout",
     "output_type": "stream",
     "text": [
      "Ackes\n"
     ]
    }
   ],
   "source": [
    "#6. Given a dictionary containing the names and ages of a group of people, return the \n",
    "#name of the oldest person\n",
    "#Input: {\"Tmma\": 41, \"Ackes\": 45, \"myna\": 15, \"Benthon\": 29}\n",
    "#Output: “Ackes”\n",
    "\n",
    "d={\"Tmma\": 41, \"Ackes\": 45, \"myna\": 15, \"Benthon\": 29}\n",
    "l=list(d.values())\n",
    "l.sort()\n",
    "max=l[-1]\n",
    "for y,z in d.items():\n",
    "    if d[y]==max:\n",
    "        print(y)"
   ]
  },
  {
   "cell_type": "code",
   "execution_count": 12,
   "id": "9ff680bb",
   "metadata": {},
   "outputs": [
    {
     "name": "stdout",
     "output_type": "stream",
     "text": [
      "Enter your choice: rock\n",
      "Enter your choice: scissor\n",
      "p1 win\n"
     ]
    }
   ],
   "source": [
    "#7. Write a Python program to create a Rock, Paper, Scissor game, use two inputs for two \n",
    "#players:\n",
    "#Conditions: -Rock beats Scissors, Scissors beats Paper, Paper beats Rock\n",
    "\n",
    "x=input(\"Enter your choice: \")\n",
    "y=input(\"Enter your choice: \")\n",
    "if x==y:\n",
    "    print(\"play again\")\n",
    "elif x==\"rock\" and y==\"paper\" or x==\"paper\" and y==\"scissor\" or x==\"scissor\" and y==\"paper\":\n",
    "    print(\"p2 win\")\n",
    "elif x==\"rock\" and y==\"scissor\" or x==\"paper\" and y==\"rock\" or x==\"scissor\" and y==\"rock\":\n",
    "    print(\"p1 win\")\n",
    "else:\n",
    "    print(\"wrong input\")"
   ]
  },
  {
   "cell_type": "code",
   "execution_count": 1,
   "id": "994e0cc8",
   "metadata": {},
   "outputs": [
    {
     "name": "stdout",
     "output_type": "stream",
     "text": [
      "85\n",
      "['water bottles', 'chips', 'pens']\n"
     ]
    }
   ],
   "source": [
    "#8. Create a program that returns a list of items that you can afford in the store with the \n",
    "#money you have in your wallet. Create a dictionary with items as key and price as \n",
    "#values\n",
    "#{“water bottles”: “20”,” chips”:10,” Iphone”;49000“,” towel”:90,” pens”:58,” cake”;400}\n",
    "#Your wallet balance: 50\n",
    "\n",
    "\n",
    "x={\"water bottles\": 20,\"chips\":10,\"Iphone\":49000, \"towel\":90,\"pens\":58,\"cake\":400}\n",
    "money=int(input())\n",
    "l=[]\n",
    "for y,z in x.items():\n",
    "    if z<=money:\n",
    "        l.append(y)\n",
    "print(l)"
   ]
  },
  {
   "cell_type": "code",
   "execution_count": 1,
   "id": "aa9b329c",
   "metadata": {},
   "outputs": [
    {
     "data": {
      "text/plain": [
       "{1, 2, 3, 4, 5, 6, 7}"
      ]
     },
     "execution_count": 1,
     "metadata": {},
     "output_type": "execute_result"
    }
   ],
   "source": [
    "#9. Write a Python program to create a union of sets\n",
    "s1={1,2,3,4,5}\n",
    "s2={4,5,6,7,2}\n",
    "s1.union(s2)"
   ]
  },
  {
   "cell_type": "code",
   "execution_count": 3,
   "id": "a47db659",
   "metadata": {},
   "outputs": [
    {
     "name": "stdout",
     "output_type": "stream",
     "text": [
      "4\n",
      "value is present\n"
     ]
    }
   ],
   "source": [
    "#10. Write a Python program to check if a given value is present in a set or not\n",
    "#(Dynamic)\n",
    "\n",
    "set={1,2,3,4}\n",
    "x=int(input())\n",
    "for i in set:\n",
    "    if i==x:\n",
    "        print(\"value is present\")"
   ]
  },
  {
   "cell_type": "code",
   "execution_count": 4,
   "id": "dc667df8",
   "metadata": {},
   "outputs": [
    {
     "name": "stdout",
     "output_type": "stream",
     "text": [
      "{'cat': 3, 'dog': 5, 'mouse': 3}\n"
     ]
    }
   ],
   "source": [
    "#11. Write a Python program to find the occurrences of 3 most common words in a \n",
    "#given text. And make it as a dictionaries\n",
    "\n",
    "text=\"cat dog dog cat horse dog dog mouse horse dog mouse tiger lion tiger cat mouse snail\"\n",
    "text1=text.split()\n",
    "text1\n",
    "l=[]\n",
    "dict1={}\n",
    "for i in text1:\n",
    "    if text1.count(i)>2:\n",
    "        if i in dict1:\n",
    "            dict1[i]+=1\n",
    "        else:\n",
    "            dict1[i]=1\n",
    "print(dict1)\n"
   ]
  },
  {
   "cell_type": "code",
   "execution_count": 1,
   "id": "620f6de5",
   "metadata": {},
   "outputs": [
    {
     "name": "stdout",
     "output_type": "stream",
     "text": [
      "{'english': 56, 'hindi': 98, 'telugu': 75, 'social': 66}\n"
     ]
    }
   ],
   "source": [
    "#12. Write a Python program that accepts name of given subject and mark, and \n",
    "#make subjects as keys in dictionaries and marks as values and print the final\n",
    "#dictionary with subjects and marks\n",
    "\n",
    "list1=[\"english\",\"hindi\",\"telugu\",\"social\"]\n",
    "list2=[56,98,75,66]\n",
    "dict1=dict()\n",
    "for i in range(len(list1)):\n",
    "    dict1.update({list1[i]:list2[i]})\n",
    "print(dict1)\n"
   ]
  },
  {
   "cell_type": "code",
   "execution_count": null,
   "id": "57888bad",
   "metadata": {},
   "outputs": [],
   "source": []
  }
 ],
 "metadata": {
  "kernelspec": {
   "display_name": "Python 3 (ipykernel)",
   "language": "python",
   "name": "python3"
  },
  "language_info": {
   "codemirror_mode": {
    "name": "ipython",
    "version": 3
   },
   "file_extension": ".py",
   "mimetype": "text/x-python",
   "name": "python",
   "nbconvert_exporter": "python",
   "pygments_lexer": "ipython3",
   "version": "3.9.13"
  }
 },
 "nbformat": 4,
 "nbformat_minor": 5
}
